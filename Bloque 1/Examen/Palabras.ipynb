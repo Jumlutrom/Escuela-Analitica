{
 "cells": [
  {
   "cell_type": "markdown",
   "metadata": {},
   "source": [
    "# Pregunta 9 \n",
    "\n",
    "#### En este ejercicio debes usar un módulo que nunca hemos usado, entenderlo, y utilizar 2 funciones del mismo que te ayudarán a  listar las cuatro palabras que más aparecen en una lista. Tienes que conseguir que al llamar a estas funciones el resultado de la misma tenga un formato similar a\n",
    "#### In this exercise you must use a module that we have never used, understand it, and use 2 functions of it that will help you to list the four words that appear the most in a list. You have to ensure that when calling these functions the result of the same has a format similar to\n",
    "[('PEDRO', 24), ('JUAN', 14), ('PACO', 5), ('LUIS', 2)]\n",
    "#### No es dificil si lees detenidamente la documentación de este módulo.\n",
    "### Disfruta del ejercicio!!!!\n",
    "\n",
    "#### It is not difficult if you read the documentation of this module carefully.\n",
    "### Enjoy the exercise !!!!"
   ]
  },
  {
   "cell_type": "code",
   "execution_count": 4,
   "metadata": {},
   "outputs": [],
   "source": [
    "##NO TOCAR INICIO\n",
    "## DO NOT TOUCH START\n",
    "XXXXXXXXXXP=0\n",
    "XXXXXXXXXXZ=1\n",
    "XXXXXXXXXXC=2\n",
    "XXXXXXXXXXD=3\n",
    "import math\n",
    "# NO TOCAR FIN\n",
    "# DO NOT TOUCH END\n",
    "\n",
    "#<<<<<<<<<<<---INTRODUCE TO CÓDIGO AQUI->>>IMPORTA ESTE MODULO  https://docs.python.org/3/library/collections.html\n",
    "# <<<<<<<<<<< --- ENTER TO CODE HERE - >>>IMPORT THIS MODULE  https://docs.python.org/3/library/collections.html\n",
    "\n",
    "\n",
    "\n",
    "\n",
    "\n",
    "\n",
    "\n",
    "#<<<<<<<<<<<---FINALIZA INTRODUCE TO CÓDIGO AQUI->>>>>>>>>>>>>>>>>>>>>>\n",
    "# <<<<<<<<<<< --- FINISH ENTER THE CODE HERE - >>>>>>>>>>>>>>>>>>>>>>"
   ]
  },
  {
   "cell_type": "code",
   "execution_count": null,
   "metadata": {},
   "outputs": [],
   "source": [
    "# POSICIONATE EN LA CARPETA EN LA QUE SE ENCUENTRA EL FICHERO DE PALABRAS word_list.txt\n",
    "# POSITION IN THE FOLDER WHERE THE WORD FILE IS LOCATED word_list.txt"
   ]
  },
  {
   "cell_type": "code",
   "execution_count": 5,
   "metadata": {},
   "outputs": [],
   "source": [
    "##NO TOCAR ESTA CELDA INICIO\n",
    "## DO NOT TOUCH THIS CELL START\n",
    "fichero='word_list.txt'\n",
    "\n",
    "word_list = [];\n",
    "\n",
    "with open(fichero) as f:\n",
    "    lines = f.readlines() \n",
    "    for line in lines:\n",
    "        line = line.strip()\n",
    "        if line:\n",
    "                word_list.append(line) \n",
    "##NO TOCAR ESTA CELDA FIN\n",
    "## DO NOT TOUCH THIS CELL END"
   ]
  },
  {
   "cell_type": "code",
   "execution_count": 6,
   "metadata": {},
   "outputs": [],
   "source": [
    "# USANDO EL MODULO COLLECTIONS QUE HABÉIS IMPORTADO Y ESTUDIADO DETENIDAMENTE...\n",
    "# Obtener las 4 palabras que más aparecen en orden descendiente usando solo las funciones que ofrece esta librería\n",
    "# y guardar en la variable mas_comunes\n",
    "# Puedes realizarlo en una sola línea o varias líneas pero lo importante es que guardes tu resultado en \"mas_comunes\"\n",
    "\n",
    "# USING THE COLLECTIONS MODULE THAT YOU HAVE IMPORTED AND STUDIED CAREFULLY ...\n",
    "# Obtain the 4 words that appear the most in descending order using only the functions offered by this library\n",
    "# and save in the variable most_commons\n",
    "# You can do it in a single line or several lines but the important thing is that you save your result in \"mas_comunes\"\n",
    "\n",
    "#<<<<<<<<<<<---INTRODUCE TO CÓDIGO AQUI->>>>>>>>>>>>>>>>>>>>>>\n",
    "# <<<<<<<<<<< --- ENTER YOUR CODE HERE - >>>>>>>>>>>>>>>>>>>>>>\n",
    "\n",
    "\n",
    "\n",
    "\n",
    "\n",
    "\n",
    "\n",
    "\n",
    "\n",
    "\n",
    "#<<<<<<<<<<<---FINALIZAINTRODUCE TO CÓDIGO AQUI->>>>>>>>>>>>>>>>>>>>>>\n",
    "# <<<<<<<<<<< --- FINISH ENTER YOUR CODE HERE - >>>>>>>>>>>>>>>>>>>>>>"
   ]
  },
  {
   "cell_type": "code",
   "execution_count": 10,
   "metadata": {},
   "outputs": [],
   "source": [
    "# SI HAS USADO EL MODULO COLLECTIONS E IMPRIMES LA VARIABLE RESULTADO TIENES QUE OBTENER ALGO SIMILAR A ESTE EJEMPLO\n",
    "# IF YOU HAVE USED THE COLLECTIONS MODULE AND PRINTED THE RESULT VARIABLE, YOU HAVE TO OBTAIN SOMETHING SIMILAR TO THIS EXAMPLE\n",
    "# [('PEDRO', 24), ('JUAN', 14), ('PACO', 5), ('ALBERTO', 2)]\n",
    "#\n",
    "# SI NO SE CONSIGUE ESE FORMATO AL IMPRIMIR \"mas_comunes\" no funcionará el verificador del ejercicio\n",
    "# IF THAT FORMAT IS NOT OBTAINED WHEN PRINTING \"mas_comunes\", the exercise verifier will not work\n",
    "mas_comunes"
   ]
  },
  {
   "cell_type": "code",
   "execution_count": 9,
   "metadata": {},
   "outputs": [],
   "source": [
    "##### \n",
    "############ VERIFICADOR DEL EJERCICIO ############################\n",
    "############ EXERCISE VERIFIER ############################\n",
    "math.expm1(mas_comunes[XXXXXXXXXXP][1]/mas_comunes[XXXXXXXXXXC][1])+mas_comunes[XXXXXXXXXXZ][1] -mas_comunes[XXXXXXXXXXD][1]\n",
    "\n",
    "##### INTRODUCIR EN EL FORMULARIO DEL EXAMEN EL VALOR QUE APARECE AL EJECUTAR ESTA CELDA PERO\n",
    "##### SOLO CON 3 DIGITOS DECIMALES\n",
    "##### ENTER IN THE EXAM FORM THE VALUE THAT APPEARS WHEN YOU EXECUTE THIS CELL BUT\n",
    "##### ONLY WITH 3 DECIMAL DIGITS\n",
    "##### Ejemplo:\n",
    "##### Example:\n",
    "#####\n",
    "##### RESULTADO -> 22.21535184  VALOR A INTRODUCIR EN EL FORMULARIO DEL EXAMEN -> 22.215\n",
    "##### RESULT -> 22.21535184 VALUE TO ENTER IN THE EXAM FORM -> 22.215\n",
    "#####"
   ]
  },
  {
   "cell_type": "code",
   "execution_count": null,
   "metadata": {},
   "outputs": [],
   "source": []
  }
 ],
 "metadata": {
  "kernelspec": {
   "display_name": "Python 3",
   "language": "python",
   "name": "python3"
  },
  "language_info": {
   "codemirror_mode": {
    "name": "ipython",
    "version": 3
   },
   "file_extension": ".py",
   "mimetype": "text/x-python",
   "name": "python",
   "nbconvert_exporter": "python",
   "pygments_lexer": "ipython3",
   "version": "3.7.8"
  }
 },
 "nbformat": 4,
 "nbformat_minor": 2
}