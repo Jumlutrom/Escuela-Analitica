{
 "cells": [
  {
   "cell_type": "markdown",
   "metadata": {},
   "source": [
    "# Ejercicio examen - Exam exercise"
   ]
  },
  {
   "cell_type": "markdown",
   "metadata": {},
   "source": [
    "## 1. Importamos librerías - Import libraries"
   ]
  },
  {
   "cell_type": "code",
   "execution_count": 2,
   "metadata": {},
   "outputs": [],
   "source": [
    "import csv\n",
    "import math"
   ]
  },
  {
   "cell_type": "markdown",
   "metadata": {},
   "source": [
    "## 2. Definimos nuestras funciones - We define our functions"
   ]
  },
  {
   "cell_type": "markdown",
   "metadata": {},
   "source": [
    "Realiza el siguiente cálculo: media de la lista de números, dividivo entre el valor moda de la lista\n",
    "Perform the following calculation: mean of the list of numbers, divided by the mode value of the list"
   ]
  },
  {
   "cell_type": "markdown",
   "metadata": {},
   "source": [
    "$y = \\frac{median}{mode}$"
   ]
  },
  {
   "cell_type": "markdown",
   "metadata": {},
   "source": [
    "y = variable de salida - output variable <br/>\n",
    "median = mediana de la muestra - median of the sample <br/>\n",
    "mode = moda de la muestra - mode of the sample <br/>"
   ]
  },
  {
   "cell_type": "code",
   "execution_count": 10,
   "metadata": {},
   "outputs": [],
   "source": [
    "#Define aqui la función\n",
    "#Define the function here"
   ]
  },
  {
   "cell_type": "markdown",
   "metadata": {},
   "source": [
    "## 3. Cargamos los datos - We load the data"
   ]
  },
  {
   "cell_type": "code",
   "execution_count": 5,
   "metadata": {},
   "outputs": [],
   "source": [
    "lista_numeros = []\n",
    "with open('./lista_numeros.txt') as csv_file:\n",
    "    csv_reader = csv.reader(csv_file, delimiter='\\n')\n",
    "    for row in csv_reader:\n",
    "        lista_numeros.append(int(row[0]))"
   ]
  },
  {
   "cell_type": "markdown",
   "metadata": {},
   "source": [
    "## 4. Realizamos los cálculos  - We do the calculations"
   ]
  },
  {
   "cell_type": "markdown",
   "metadata": {},
   "source": [
    "Asigna el valor resultante a una variable llamada \"y\"\n",
    "Assign the resulting value to a variable named \"y\""
   ]
  },
  {
   "cell_type": "code",
   "execution_count": 11,
   "metadata": {},
   "outputs": [],
   "source": [
    "y ="
   ]
  },
  {
   "cell_type": "markdown",
   "metadata": {},
   "source": [
    "## 5. Resultado - Result"
   ]
  },
  {
   "cell_type": "markdown",
   "metadata": {},
   "source": [
    "**NO TOCAR ESTE APARTADO DEL CÓDIGO, SIMPLEMENTE COPIAR EL RESULTADO DEL PRINT**\n",
    "**DO NOT TOUCH THIS SECTION OF THE CODE, JUST COPY THE RESULT OF THE PRINT**"
   ]
  },
  {
   "cell_type": "markdown",
   "metadata": {},
   "source": [
    "El resultado es:\n",
    "The result is:"
   ]
  },
  {
   "cell_type": "code",
   "execution_count": 23,
   "metadata": {},
   "outputs": [],
   "source": [
    "print(\"Pega este resultado en el Forms hasta el tercer decimal, milésimas, sin redondear: \\n\" + \"Paste this result into the Forms to the third decimal place, thousandths, without rounding: \\n\" + str(math.ldexp(y, 1)))"
   ]
  }
 ],
 "metadata": {
  "kernelspec": {
   "display_name": "Python 3",
   "language": "python",
   "name": "python3"
  },
  "language_info": {
   "codemirror_mode": {
    "name": "ipython",
    "version": 3
   },
   "file_extension": ".py",
   "mimetype": "text/x-python",
   "name": "python",
   "nbconvert_exporter": "python",
   "pygments_lexer": "ipython3",
   "version": "3.7.8"
  }
 },
 "nbformat": 4,
 "nbformat_minor": 2
}