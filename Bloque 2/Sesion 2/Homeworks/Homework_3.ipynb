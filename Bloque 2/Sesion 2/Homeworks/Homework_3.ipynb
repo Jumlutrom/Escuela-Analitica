{
 "cells": [
  {
   "cell_type": "markdown",
   "metadata": {},
   "source": [
    "# Homework 3"
   ]
  },
  {
   "cell_type": "markdown",
   "metadata": {},
   "source": [
    "Usa la plantilla \"Homework 3\" . Nos han enviado un informe “athlete_score.csv” con la puntuación de 2300 atletas que han obtenido según su desarrollo en las diferentes pruebas realizadas. Nos han pedido que unamos estos datos al Excel de información “athlete_info.xlsx”, pero quieren que sólo los atletas que tengan asignado un score aprezcan en el informe final. Este archivo se llamará “atletas_info_score.csv”\n",
    "\n",
    "Apunte: en la tabla final score tiene que ser la última columna del DataFrame, por lo que hay que hacer la unión \"athlete_info\" con \"athlete_score\" y no al reves). "
   ]
  },
  {
   "cell_type": "markdown",
   "metadata": {},
   "source": [
    "Use the \"Homework 3\" template. You have recived a report \"athlete_score.csv\" with the score of 2300 athletes that have been obtained according to their development in the different tests carried out. You have been asked to join this data with the information Excel \"athlete_info.xlsx\", but you want only to show, in the final report, the athletes who have a score assigned. This file will be called \"athletes_info_score.csv\"\n",
    "\n",
    "Finally run the verification code and paste the result into the response box.\n",
    "\n",
    "Note: in the final table the score column should be the last column of the DataFrame, so you have to make the union \"athlete_info\" with \"athlete_score\" and not the other way)."
   ]
  },
  {
   "cell_type": "markdown",
   "metadata": {},
   "source": [
    "## 1 Instala las librerías "
   ]
  },
  {
   "cell_type": "code",
   "execution_count": 17,
   "metadata": {},
   "outputs": [],
   "source": [
    "pip install pandas"
   ]
  },
  {
   "cell_type": "code",
   "execution_count": 18,
   "metadata": {},
   "outputs": [],
   "source": [
    "pip install openpyxl"
   ]
  },
  {
   "cell_type": "code",
   "execution_count": 19,
   "metadata": {},
   "outputs": [],
   "source": [
    "pip install xlrd"
   ]
  },
  {
   "cell_type": "markdown",
   "metadata": {},
   "source": [
    "## 2 Introduce aqui tus celdas de código"
   ]
  },
  {
   "cell_type": "markdown",
   "metadata": {},
   "source": [
    "## 3 Código de comprobación <span style=\"color:red\"> ¡¡¡no tocar!!! </span>."
   ]
  },
  {
   "cell_type": "markdown",
   "metadata": {},
   "source": [
    "Código de comprobación"
   ]
  },
  {
   "cell_type": "code",
   "execution_count": 47,
   "metadata": {},
   "outputs": [],
   "source": [
    "import hashlib"
   ]
  },
  {
   "cell_type": "code",
   "execution_count": 49,
   "metadata": {},
   "outputs": [],
   "source": [
    " hasher = hashlib.md5()\n",
    "\n",
    "with open('atletas_info_score.csv', 'rb') as afile:\n",
    "\n",
    "    buf = afile.read()\n",
    "\n",
    "    hasher.update(buf)\n",
    "\n",
    "print(\"Pegar este resultado en el cuadrado de la respuesta: \" + hasher.hexdigest())"
   ]
  },
  {
   "cell_type": "code",
   "execution_count": null,
   "metadata": {},
   "outputs": [],
   "source": []
  }
 ],
 "metadata": {
  "kernelspec": {
   "display_name": "Python 3",
   "language": "python",
   "name": "python3"
  },
  "language_info": {
   "codemirror_mode": {
    "name": "ipython",
    "version": 3
   },
   "file_extension": ".py",
   "mimetype": "text/x-python",
   "name": "python",
   "nbconvert_exporter": "python",
   "pygments_lexer": "ipython3",
   "version": "3.7.8"
  }
 },
 "nbformat": 4,
 "nbformat_minor": 2
}
