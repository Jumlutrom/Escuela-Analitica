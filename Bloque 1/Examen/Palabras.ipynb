{
 "cells": [
  {
   "cell_type": "markdown",
   "metadata": {},
   "source": [
    "# Pregunta 9 \n",
    "\n",
    "#### En este ejercicio debes usar un módulo que nunca hemos usado, entenderlo, y utilizar 2 funciones del mismo que te ayudarán a  listar las tres palabras que más aparecen en una lista. Tienes que conseguir que al llamar a estas funciones el resultado de la misma tenga un formato similar a\n",
    "[('PEDRO', 24), ('JUAN', 14), ('PACO', 5)]\n",
    "#### No es dificil si lees detenidamente la documentación de este módulo.\n",
    "### Disfruta del ejercicio!!!!\n"
   ]
  },
  {
   "cell_type": "code",
   "execution_count": null,
   "metadata": {},
   "outputs": [],
   "source": [
    "##NO TOCAR INICIO\n",
    "XXXXXXXXXXP=0\n",
    "XXXXXXXXXXZ=1\n",
    "XXXXXXXXXXC=2\n",
    "import math\n",
    "# NO TOCAR FIN\n",
    "\n",
    "\n",
    "#<<<<<<<<<<<---INTRODUCE TO CÓDIGO AQUI->>>IMPORTA ESTE MODULO  https://docs.python.org/3/library/collections.html\n",
    "\n",
    "\n",
    "\n",
    "\n",
    "\n",
    "\n",
    "\n",
    "#<<<<<<<<<<<---FINALIZA INTRODUCE TO CÓDIGO AQUI->>>>>>>>>>>>>>>>>>>>>>\n"
   ]
  },
  {
   "cell_type": "code",
   "execution_count": null,
   "metadata": {},
   "outputs": [],
   "source": [
    "# POSICIONATE EN LA CARPETA EN LA QUE SE ENCUENTRA EL FICHERO DE PALABRAS word_list.txt"
   ]
  },
  {
   "cell_type": "code",
   "execution_count": null,
   "metadata": {},
   "outputs": [],
   "source": [
    "##NO TOCAR ESTA CELDA INICIO\n",
    "fichero='word_list.txt'\n",
    "\n",
    "word_list = [];\n",
    "\n",
    "with open(fichero) as f:\n",
    "    lines = f.readlines() \n",
    "    for line in lines:\n",
    "        line = line.strip()\n",
    "        if line:\n",
    "                word_list.append(line) \n",
    "##NO TOCAR ESTA CELDA FIN"
   ]
  },
  {
   "cell_type": "code",
   "execution_count": null,
   "metadata": {},
   "outputs": [],
   "source": [
    "# USANDO EL MODULO COLLECTIONS QUE HABÉIS IMPORTADO Y ESTUDIADO DETENIDAMENTE...\n",
    "# Obtener las 3 palabras que más aparecen en orden descendiente usando solo las funciones que ofrece esta librería\n",
    "# y guardar en la variable mas_comunes\n",
    "# Puedes realizarlo en una sola línea o varias líneas pero lo importante es que guardes tu resultado en \"mas_comunes\"\n",
    "\n",
    "#<<<<<<<<<<<---INTRODUCE TO CÓDIGO AQUI->>>>>>>>>>>>>>>>>>>>>>\n",
    "\n",
    "\n",
    "\n",
    "\n",
    "\n",
    "\n",
    "\n",
    "\n",
    "\n",
    "\n",
    "\n",
    "\n",
    "#<<<<<<<<<<<---FINALIZAINTRODUCE TO CÓDIGO AQUI->>>>>>>>>>>>>>>>>>>>>>"
   ]
  },
  {
   "cell_type": "code",
   "execution_count": null,
   "metadata": {},
   "outputs": [],
   "source": [
    "# SI HAS USADO EL MODULO COLLECTIONS E IMPRIMES LA VARIABLE RESULTADO TIENES QUE OBTENER ALGO SIMILAR A ESTE EJEMPLO\n",
    "# \n",
    "# [('PEDRO', 24), ('JUAN', 14), ('PACO', 5)]\n",
    "#\n",
    "# SI NO SE CONSIGUE ESE FORMATO AL IMPRIMIR \"mas_comunes\" no funcionará el verificador del ejercicio\n",
    "\n",
    "mas_comunes"
   ]
  },
  {
   "cell_type": "code",
   "execution_count": null,
   "metadata": {},
   "outputs": [],
   "source": [
    "##### \n",
    "############ VERIFICADOR DEL EJERCICIO ############################\n",
    "math.expm1(mas_comunes[XXXXXXXXXXP][1]/mas_comunes[XXXXXXXXXXC][1])+mas_comunes[XXXXXXXXXXZ][1]\n",
    "\n",
    "##### INTRODUCIR EN EL FORMULARIO DEL EXAMEN EL VALOR QUE APARECE AL EJECUTAR ESTA CELDA PERO\n",
    "##### SOLO CON 3 DIGITOS DECIMALES\n",
    "#####\n",
    "##### Ejemplo:\n",
    "#####\n",
    "##### RESULTADO -> 22.21535184  VALOR A INTRODUCIR EN EL FORMULARIO DEL EXAMEN -> 22.215\n",
    "#####\n",
    "#####"
   ]
  },
  {
   "cell_type": "code",
   "execution_count": null,
   "metadata": {},
   "outputs": [],
   "source": []
  }
 ],
 "metadata": {
  "kernelspec": {
   "display_name": "Python 3",
   "language": "python",
   "name": "python3"
  },
  "language_info": {
   "codemirror_mode": {
    "name": "ipython",
    "version": 3
   },
   "file_extension": ".py",
   "mimetype": "text/x-python",
   "name": "python",
   "nbconvert_exporter": "python",
   "pygments_lexer": "ipython3",
   "version": "3.7.3"
  }
 },
 "nbformat": 4,
 "nbformat_minor": 2
}
