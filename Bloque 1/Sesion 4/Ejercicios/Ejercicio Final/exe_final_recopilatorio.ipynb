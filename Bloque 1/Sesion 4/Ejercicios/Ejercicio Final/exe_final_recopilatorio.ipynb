{
 "cells": [
  {
   "cell_type": "markdown",
   "metadata": {},
   "source": [
    "# Ejemplo recopilatorio"
   ]
  },
  {
   "cell_type": "markdown",
   "metadata": {},
   "source": [
    "<!--Crea una celda de tipo markdown de segundo nivel que se llame funciones y librerías-->\n",
    "Haz doble click aquí para ver las instrucciones!!! -- Double click here to see the instructions !!!"
   ]
  },
  {
   "cell_type": "markdown",
   "metadata": {},
   "source": [
    "<!--Crea una celda de tipo markdown con comentarios sobre este ejercicio-->Haz doble click aquí para ver las instrucciones -- Double click here to see the instructions !!!"
   ]
  },
  {
   "cell_type": "markdown",
   "metadata": {},
   "source": [
    "## 1.1.- Importamos librerías "
   ]
  },
  {
   "cell_type": "markdown",
   "metadata": {},
   "source": [
    "<!--Crea una celda de tipo markdown añadiendo descripción de las librerías-->\n",
    "Haz doble click aquí para ver las instrucciones -- Double click here to see the instructions !!!"
   ]
  },
  {
   "cell_type": "code",
   "execution_count": 1,
   "metadata": {},
   "outputs": [],
   "source": [
    "import csv\n",
    "import statistics"
   ]
  },
  {
   "cell_type": "markdown",
   "metadata": {},
   "source": [
    "## 1.2.- Creamos una función "
   ]
  },
  {
   "cell_type": "code",
   "execution_count": 2,
   "metadata": {},
   "outputs": [],
   "source": [
    "def numero_mayor(listado):\n",
    "    listado.sort(reverse = True)\n",
    "    return listado[0]"
   ]
  },
  {
   "cell_type": "markdown",
   "metadata": {},
   "source": [
    "A continuación crea una función realice el cálculo de la ecuación que aparece abajo: <br/>\n",
    "Then create a function perform the calculation of the equation that appears below:"
   ]
  },
  {
   "cell_type": "markdown",
   "metadata": {},
   "source": [
    "$SEM = \\frac{SD}{\\sqrt{n}}$"
   ]
  },
  {
   "cell_type": "markdown",
   "metadata": {},
   "source": [
    "SEM = Error estándar de la media -- Standard error of the mean<br/>\n",
    "SD = Desviación estándar -- Standard deviation<br/>\n",
    "n = tamaño de la muestra -- Sample size<br/>"
   ]
  },
  {
   "cell_type": "markdown",
   "metadata": {},
   "source": [
    "<!--Crea una celda de tipo markdown añadiendo una descripción de las funciones-->Haz doble click aquí para ver las instrucciones -- Double click here to see the instructions !!!"
   ]
  },
  {
   "cell_type": "code",
   "execution_count": 10,
   "metadata": {},
   "outputs": [],
   "source": [
    "#Añade aqui la nueva función que realiza el cálculo de la ecuación"
   ]
  },
  {
   "cell_type": "markdown",
   "metadata": {},
   "source": [
    "## 1.3.- Variable de control"
   ]
  },
  {
   "cell_type": "markdown",
   "metadata": {},
   "source": [
    "Definimos el valor de nuestra variable inicial -- We define the value of our initial variable"
   ]
  },
  {
   "cell_type": "code",
   "execution_count": 3,
   "metadata": {},
   "outputs": [],
   "source": [
    "valor_maximo_control = 30000"
   ]
  },
  {
   "cell_type": "markdown",
   "metadata": {},
   "source": [
    "<!-- Crea una celda de tipo markdown de segundo nivel que se llame: \"Abrimos nuestro fichero de texto\"-->\n",
    "Haz doble click aquí para ver las instrucciones -- Double click here to see the instructions !!!"
   ]
  },
  {
   "cell_type": "markdown",
   "metadata": {},
   "source": [
    "Vemos que archivos tenemos en nuestra carpeta de trabajo -- We see what files we have in our working folder"
   ]
  },
  {
   "cell_type": "code",
   "execution_count": 9,
   "metadata": {
    "scrolled": true
   },
   "outputs": [
    {
     "name": "stdout",
     "output_type": "stream",
     "text": [
      "lista_numeros.txt\r\n"
     ]
    }
   ],
   "source": [
    "ls"
   ]
  },
  {
   "cell_type": "markdown",
   "metadata": {},
   "source": [
    "Creamos una lista vacia -- We create an empty list"
   ]
  },
  {
   "cell_type": "code",
   "execution_count": 11,
   "metadata": {},
   "outputs": [],
   "source": [
    "lista_numeros = []"
   ]
  },
  {
   "cell_type": "markdown",
   "metadata": {},
   "source": [
    "Cargamos el archivo que nos interesa -- We load the file that interests us"
   ]
  },
  {
   "cell_type": "code",
   "execution_count": 12,
   "metadata": {},
   "outputs": [],
   "source": [
    "with open('./lista_numeros.txt') as csv_file:\n",
    "    csv_reader = csv.reader(csv_file, delimiter='\\n')\n",
    "    for row in csv_reader:\n",
    "        lista_numeros.append(int(row[0]))"
   ]
  },
  {
   "cell_type": "markdown",
   "metadata": {},
   "source": [
    "# 3.- Cálculos"
   ]
  },
  {
   "cell_type": "markdown",
   "metadata": {},
   "source": [
    "Visualizamos los datos -- View of data"
   ]
  },
  {
   "cell_type": "code",
   "execution_count": 14,
   "metadata": {},
   "outputs": [
    {
     "name": "stdout",
     "output_type": "stream",
     "text": [
      "[5, 12, 20, 23, 35, 46, 85, 98, 153, 206, 206, 238, 315, 328, 359, 519, 519, 10820, 11701, 12272, 12672, 12777, 12777, 13009, 13560, 14280, 14712, 15392, 15437, 17760, 18488, 20309, 558, 558, 558, 558, 647, 660, 1428, 1428, 1539, 1539, 1619, 1619, 2145, 2145, 2257, 2931, 3724, 3724, 3724, 4211, 4215, 4345, 4561, 5254, 5254, 6221, 6240, 6280, 7111, 8004, 8132, 8132, 8408, 8408, 9097, 9097, 9114, 9114, 10663, 10663, 10755]\n"
     ]
    }
   ],
   "source": [
    "print(lista_numeros)"
   ]
  },
  {
   "cell_type": "code",
   "execution_count": 15,
   "metadata": {},
   "outputs": [],
   "source": [
    "#llama aqui a la funcion que creaste arriba y asigna su valor a esta variable\n",
    "#call here the function you created above and assign its value to this variable\n",
    "resultado_estandar_media = None"
   ]
  },
  {
   "cell_type": "code",
   "execution_count": 17,
   "metadata": {},
   "outputs": [],
   "source": [
    "if lista_numeros != []:\n",
    "    if resultado_estandar_media > valor_maximo_control:\n",
    "        resultado = statistics.median(lista_numeros)\n",
    "        print(\"La mediana es: \" + str(resultado))\n",
    "    else:\n",
    "        resultado = statistics.mean(lista_numeros)\n",
    "        print(\"La media es: \" + str(resultado))\n",
    "else:\n",
    "    print(\"Nuestra lista de númeroes esta vacia\")    "
   ]
  },
  {
   "cell_type": "code",
   "execution_count": null,
   "metadata": {},
   "outputs": [],
   "source": []
  }
 ],
 "metadata": {
  "kernelspec": {
   "display_name": "Python 3",
   "language": "python",
   "name": "python3"
  },
  "language_info": {
   "codemirror_mode": {
    "name": "ipython",
    "version": 3
   },
   "file_extension": ".py",
   "mimetype": "text/x-python",
   "name": "python",
   "nbconvert_exporter": "python",
   "pygments_lexer": "ipython3",
   "version": "3.7.8"
  }
 },
 "nbformat": 4,
 "nbformat_minor": 2
}
