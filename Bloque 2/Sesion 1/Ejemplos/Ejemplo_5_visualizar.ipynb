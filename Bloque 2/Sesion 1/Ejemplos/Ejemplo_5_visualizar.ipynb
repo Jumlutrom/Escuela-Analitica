{
 "cells": [
  {
   "cell_type": "code",
   "execution_count": null,
   "metadata": {},
   "outputs": [],
   "source": []
  },
  {
   "cell_type": "code",
   "execution_count": 2,
   "metadata": {},
   "outputs": [
    {
     "name": "stdout",
     "output_type": "stream",
     "text": [
      "Collecting pandas\n",
      "\u001b[?25l  Downloading https://files.pythonhosted.org/packages/63/e0/a1b39cdcb2c391f087a1538bc8a6d62a82d0439693192aef541d7b123769/pandas-0.25.3-cp37-cp37m-manylinux1_x86_64.whl (10.4MB)\n",
      "\u001b[K     |████████████████████████████████| 10.4MB 3.6MB/s eta 0:00:01\n",
      "\u001b[?25hCollecting numpy>=1.13.3 (from pandas)\n",
      "\u001b[?25l  Downloading https://files.pythonhosted.org/packages/20/53/127cb49435bcf5d841baf8eafa030931c62a9eac577a641f8c2293d23371/numpy-1.18.0-cp37-cp37m-manylinux1_x86_64.whl (20.1MB)\n",
      "\u001b[K     |████████████████████████████████| 20.1MB 30.6MB/s eta 0:00:01\n",
      "\u001b[?25hCollecting pytz>=2017.2 (from pandas)\n",
      "\u001b[?25l  Downloading https://files.pythonhosted.org/packages/e7/f9/f0b53f88060247251bf481fa6ea62cd0d25bf1b11a87888e53ce5b7c8ad2/pytz-2019.3-py2.py3-none-any.whl (509kB)\n",
      "\u001b[K     |████████████████████████████████| 512kB 51.0MB/s eta 0:00:01\n",
      "\u001b[?25hRequirement already satisfied: python-dateutil>=2.6.1 in /srv/conda/envs/notebook/lib/python3.7/site-packages (from pandas) (2.8.0)\n",
      "Requirement already satisfied: six>=1.5 in /srv/conda/envs/notebook/lib/python3.7/site-packages (from python-dateutil>=2.6.1->pandas) (1.12.0)\n",
      "Installing collected packages: numpy, pytz, pandas\n",
      "Successfully installed numpy-1.18.0 pandas-0.25.3 pytz-2019.3\n",
      "Note: you may need to restart the kernel to use updated packages.\n"
     ]
    }
   ],
   "source": [
    "pip install pandas"
   ]
  },
  {
   "cell_type": "code",
   "execution_count": 3,
   "metadata": {},
   "outputs": [],
   "source": [
    "import pandas as pd"
   ]
  },
  {
   "cell_type": "code",
   "execution_count": 7,
   "metadata": {},
   "outputs": [],
   "source": [
    "df = pd.read_csv(\"./Bloque-2/ejemplo-4/Customer Churn Model.txt\")"
   ]
  },
  {
   "cell_type": "code",
   "execution_count": 8,
   "metadata": {},
   "outputs": [
    {
     "data": {
      "text/plain": [
       "(3333, 21)"
      ]
     },
     "execution_count": 8,
     "metadata": {},
     "output_type": "execute_result"
    }
   ],
   "source": [
    "df.shape"
   ]
  },
  {
   "cell_type": "code",
   "execution_count": 6,
   "metadata": {},
   "outputs": [
    {
     "data": {
      "text/plain": [
       "Index(['State', 'Account Length', 'Area Code', 'Phone', 'Int'l Plan',\n",
       "       'VMail Plan', 'VMail Message', 'Day Mins', 'Day Calls', 'Day Charge',\n",
       "       'Eve Mins', 'Eve Calls', 'Eve Charge', 'Night Mins', 'Night Calls',\n",
       "       'Night Charge', 'Intl Mins', 'Intl Calls', 'Intl Charge',\n",
       "       'CustServ Calls', 'Churn?'],\n",
       "      dtype='object')"
      ]
     },
     "execution_count": 6,
     "metadata": {},
     "output_type": "execute_result"
    }
   ],
   "source": [
    "df.columns"
   ]
  },
  {
   "cell_type": "code",
   "execution_count": 8,
   "metadata": {},
   "outputs": [
    {
     "data": {
      "text/plain": [
       "pandas.core.frame.DataFrame"
      ]
     },
     "execution_count": 8,
     "metadata": {},
     "output_type": "execute_result"
    }
   ],
   "source": [
    "type(df)"
   ]
  },
  {
   "cell_type": "code",
   "execution_count": 13,
   "metadata": {},
   "outputs": [
    {
     "data": {
      "text/plain": [
       "State              object\n",
       "Account Length      int64\n",
       "Area Code           int64\n",
       "Phone              object\n",
       "Int'l Plan         object\n",
       "VMail Plan         object\n",
       "VMail Message       int64\n",
       "Day Mins          float64\n",
       "Day Calls           int64\n",
       "Day Charge        float64\n",
       "Eve Mins          float64\n",
       "Eve Calls           int64\n",
       "Eve Charge        float64\n",
       "Night Mins        float64\n",
       "Night Calls         int64\n",
       "Night Charge      float64\n",
       "Intl Mins         float64\n",
       "Intl Calls          int64\n",
       "Intl Charge       float64\n",
       "CustServ Calls      int64\n",
       "Churn?             object\n",
       "dtype: object"
      ]
     },
     "execution_count": 13,
     "metadata": {},
     "output_type": "execute_result"
    }
   ],
   "source": [
    "df.dtypes"
   ]
  },
  {
   "cell_type": "code",
   "execution_count": 11,
   "metadata": {},
   "outputs": [
    {
     "data": {
      "text/plain": [
       "State             3333\n",
       "Account Length    3333\n",
       "Area Code         3333\n",
       "Phone             3333\n",
       "Int'l Plan        3333\n",
       "VMail Plan        3333\n",
       "VMail Message     3333\n",
       "Day Mins          3333\n",
       "Day Calls         3333\n",
       "Day Charge        3333\n",
       "Eve Mins          3333\n",
       "Eve Calls         3333\n",
       "Eve Charge        3333\n",
       "Night Mins        3333\n",
       "Night Calls       3333\n",
       "Night Charge      3333\n",
       "Intl Mins         3333\n",
       "Intl Calls        3333\n",
       "Intl Charge       3333\n",
       "CustServ Calls    3333\n",
       "Churn?            3333\n",
       "dtype: int64"
      ]
     },
     "execution_count": 11,
     "metadata": {},
     "output_type": "execute_result"
    }
   ],
   "source": [
    "df.count()"
   ]
  },
  {
   "cell_type": "code",
   "execution_count": 14,
   "metadata": {},
   "outputs": [
    {
     "data": {
      "text/plain": [
       "Account Length    101.064806\n",
       "Area Code         437.182418\n",
       "VMail Message       8.099010\n",
       "Day Mins          179.775098\n",
       "Day Calls         100.435644\n",
       "Day Charge         30.562307\n",
       "Eve Mins          200.980348\n",
       "Eve Calls         100.114311\n",
       "Eve Charge         17.083540\n",
       "Night Mins        200.872037\n",
       "Night Calls       100.107711\n",
       "Night Charge        9.039325\n",
       "Intl Mins          10.237294\n",
       "Intl Calls          4.479448\n",
       "Intl Charge         2.764581\n",
       "CustServ Calls      1.562856\n",
       "dtype: float64"
      ]
     },
     "execution_count": 14,
     "metadata": {},
     "output_type": "execute_result"
    }
   ],
   "source": [
    "df.mean()"
   ]
  },
  {
   "cell_type": "code",
   "execution_count": null,
   "metadata": {},
   "outputs": [],
   "source": []
  }
 ],
 "metadata": {
  "kernelspec": {
   "display_name": "Python 3",
   "language": "python",
   "name": "python3"
  },
  "language_info": {
   "codemirror_mode": {
    "name": "ipython",
    "version": 3
   },
   "file_extension": ".py",
   "mimetype": "text/x-python",
   "name": "python",
   "nbconvert_exporter": "python",
   "pygments_lexer": "ipython3",
   "version": "3.7.3"
  }
 },
 "nbformat": 4,
 "nbformat_minor": 2
}
