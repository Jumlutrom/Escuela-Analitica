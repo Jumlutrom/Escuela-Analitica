{
 "cells": [
  {
   "cell_type": "markdown",
   "metadata": {},
   "source": [
    "# Examen del Bloque 3 - Ejercicio 1"
   ]
  },
  {
   "cell_type": "markdown",
   "metadata": {},
   "source": [
    "Para realizar este ejercicio es necesaria la plantilla \"Ejercicio_1\"\n",
    "\n",
    "Nos han pedido que realicemos un estudio sobre el gasto de los clientes durante el día y la noche. Para ese objetivo nos, han enviado el archivo \"Customer Churn Model.txt\" con los datos de estos gastos en las columnas \"Day Charge\" y \"Eve Charge\" respectivamente. \n",
    "\n",
    "Para realizar esta tarea, debemos analizar la diferencia de gastos entre ambos campos, para ello nos han pedido que:\n",
    " \n",
    "* 1.- Calculemos la resta (Day Charge - Eve Charge) y la llevemos a una nueva columna (\"Charge Data\")\n",
    "* 2.- Realicemos una función que coja esta nueva columna, y:\n",
    "    * a) eleve al cubo el resultado si el valor es mayor que 10, \n",
    "    * b) si es menor  o igual  a 10 y mayor que 5 lo eleva al cuadrado \n",
    "    * c) y si es menor que 5 lo sustituye por 0\n",
    "\n",
    "Por último genera el archivo con el nombre \"analisis_diferencias.csv\" y ejecuta el código par obtener la respuesta"
   ]
  },
  {
   "cell_type": "markdown",
   "metadata": {},
   "source": [
    "## 1 Instala los módulos "
   ]
  },
  {
   "cell_type": "markdown",
   "metadata": {},
   "source": [
    "## 2 Introduce aqui tus celdas de código"
   ]
  },
  {
   "cell_type": "markdown",
   "metadata": {},
   "source": [
    "## 3 Código de comprobación <span style=\"color:red\"> ¡¡¡no tocar!!! </span>."
   ]
  },
  {
   "cell_type": "markdown",
   "metadata": {},
   "source": [
    "Código de comprobación"
   ]
  },
  {
   "cell_type": "code",
   "execution_count": 15,
   "metadata": {},
   "outputs": [],
   "source": [
    "import hashlib"
   ]
  },
  {
   "cell_type": "code",
   "execution_count": 17,
   "metadata": {},
   "outputs": [],
   "source": [
    " hasher = hashlib.md5()\n",
    "\n",
    "with open('analisis_diferencias.csv', 'rb') as afile:\n",
    "\n",
    "    buf = afile.read()\n",
    "\n",
    "    hasher.update(buf)\n",
    "\n",
    "print(\"Pegar este resultado en el cuadrado de la respuesta: \" + hasher.hexdigest())"
   ]
  }
 ],
 "metadata": {
  "kernelspec": {
   "display_name": "Python 3",
   "language": "python",
   "name": "python3"
  },
  "language_info": {
   "codemirror_mode": {
    "name": "ipython",
    "version": 3
   },
   "file_extension": ".py",
   "mimetype": "text/x-python",
   "name": "python",
   "nbconvert_exporter": "python",
   "pygments_lexer": "ipython3",
   "version": "3.7.6"
  }
 },
 "nbformat": 4,
 "nbformat_minor": 2
}
