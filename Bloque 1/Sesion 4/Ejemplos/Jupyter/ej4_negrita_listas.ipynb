{
 "cells": [
  {
   "cell_type": "markdown",
   "metadata": {},
   "source": [
    "# 1.- Ejemplo 2"
   ]
  },
  {
   "cell_type": "markdown",
   "metadata": {},
   "source": [
    "## 1.1.-Cursiva y negrita "
   ]
  },
  {
   "cell_type": "markdown",
   "metadata": {},
   "source": [
    "*cursiva*\n",
    "_cursiva_\n",
    "**negrita**\n",
    "__negrita__"
   ]
  },
  {
   "cell_type": "markdown",
   "metadata": {},
   "source": [
    "## 1.2.-Listas"
   ]
  },
  {
   "cell_type": "markdown",
   "metadata": {},
   "source": [
    "- Elemento de lista 1\n",
    "- Elemento de lista 2\n",
    "* Elemento de lista 3\n",
    "* Elemento de lista 4\n",
    "+ Elemento de lista 5\n",
    "+ Elemento de lista 6"
   ]
  },
  {
   "cell_type": "markdown",
   "metadata": {},
   "source": [
    "- Elemento de lista 1\n",
    "- Elemento de lista 2\n",
    "    - Elemento de lista 3\n",
    "    - Elemento de lista 4\n",
    "        - Elemento de lista 5\n",
    "        - Elemento de lista 6"
   ]
  },
  {
   "cell_type": "markdown",
   "metadata": {},
   "source": [
    "1. Elemento de lista 1\n",
    "2.  Elemento de lista 2\n",
    "    - Elemento de lista 3\n",
    "    - Elemento de lista 4\n",
    "        1. Elemento de lista 5\n",
    "        2. Elemento de lista 6"
   ]
  },
  {
   "cell_type": "code",
   "execution_count": null,
   "metadata": {},
   "outputs": [],
   "source": []
  }
 ],
 "metadata": {
  "kernelspec": {
   "display_name": "Python 3",
   "language": "python",
   "name": "python3"
  },
  "language_info": {
   "codemirror_mode": {
    "name": "ipython",
    "version": 3
   },
   "file_extension": ".py",
   "mimetype": "text/x-python",
   "name": "python",
   "nbconvert_exporter": "python",
   "pygments_lexer": "ipython3",
   "version": "3.7.3"
  }
 },
 "nbformat": 4,
 "nbformat_minor": 2
}