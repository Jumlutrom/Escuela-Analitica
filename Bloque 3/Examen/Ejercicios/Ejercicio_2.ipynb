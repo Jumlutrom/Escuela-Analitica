{
 "cells": [
  {
   "cell_type": "markdown",
   "metadata": {},
   "source": [
    "# Examen del Bloque 3 - Ejercicio 2"
   ]
  },
  {
   "cell_type": "markdown",
   "metadata": {},
   "source": [
    "Para realizar este ejercicio es necesaria la plantilla \"Ejercicio_2\"\n",
    "\n",
    "Nos han pedido que realicemos un estudio sobre la evolución de la superficie helada en la Antártica y el Ártico. Para ese objetivo nos, han enviado el archivo \"sea_ice.csv\" con la evolución de la superficie helada para ambos continentes a lo largo de los últimos años\n",
    "\n",
    "Para realizar esta tarea, tenemos que realizar los siguientes pasos:\n",
    " \n",
    "* 1.- Pasa la columna \"Time\" a tipo de dato fecha\n",
    "* 2.- Realiza un filtro para quedarnos con los datos de Enero para cada año\n",
    "\n",
    "Por último, con el DataFrame resultante, genera el archivo con el nombre \"analisis_hielo.csv\" y ejecuta el código par obtener la respuesta"
   ]
  },
  {
   "cell_type": "markdown",
   "metadata": {},
   "source": [
    "## 1 Instala los módulos "
   ]
  },
  {
   "cell_type": "markdown",
   "metadata": {},
   "source": [
    "## 2 Introduce aqui tus celdas de código"
   ]
  },
  {
   "cell_type": "markdown",
   "metadata": {},
   "source": [
    "## 3 Código de comprobación <span style=\"color:red\"> ¡¡¡no tocar!!! </span>."
   ]
  },
  {
   "cell_type": "markdown",
   "metadata": {},
   "source": [
    "Código de comprobación"
   ]
  },
  {
   "cell_type": "code",
   "execution_count": 15,
   "metadata": {},
   "outputs": [],
   "source": [
    "import hashlib"
   ]
  },
  {
   "cell_type": "code",
   "execution_count": 17,
   "metadata": {},
   "outputs": [],
   "source": [
    " hasher = hashlib.md5()\n",
    "\n",
    "with open('analisis_hielo.csv', 'rb') as afile:\n",
    "\n",
    "    buf = afile.read()\n",
    "\n",
    "    hasher.update(buf)\n",
    "\n",
    "print(\"Pegar este resultado en el cuadrado de la respuesta: \" + hasher.hexdigest())"
   ]
  }
 ],
 "metadata": {
  "kernelspec": {
   "display_name": "Python 3",
   "language": "python",
   "name": "python3"
  },
  "language_info": {
   "codemirror_mode": {
    "name": "ipython",
    "version": 3
   },
   "file_extension": ".py",
   "mimetype": "text/x-python",
   "name": "python",
   "nbconvert_exporter": "python",
   "pygments_lexer": "ipython3",
   "version": "3.7.6"
  }
 },
 "nbformat": 4,
 "nbformat_minor": 2
}
