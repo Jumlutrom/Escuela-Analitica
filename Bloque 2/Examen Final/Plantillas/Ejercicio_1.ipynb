{
 "cells": [
  {
   "cell_type": "markdown",
   "metadata": {},
   "source": [
    "# Examen del Bloque 2 - Ejercicio 1"
   ]
  },
  {
   "cell_type": "markdown",
   "metadata": {},
   "source": [
    "Para realizar este ejercicio es necesaria la plantilla \"Ejercicio_1\"\n",
    "\n",
    "Carga el archivo \"properties-rent.csv\", después realiza las siguientes acciones en el orden en el que aparecen: \n",
    "* Elimina los duplicados de la columna \"place_name\" **dejando la última concurrencia de cada duplicado**\n",
    "* Rellena los nulos de la columna \"rooms\" **propagando la última observación válida hasta la siguiente observación válida**\n",
    "* Rellena los datos nulos de la columna \"currency\" subtituyendolos por la frase \"Sin datos\"\n",
    "\n",
    "(Consejo: **revisa la documentación de las funciones necesarias** para realizar las operaciones correctas)\n",
    "Por último guarda el archivo con el nombre \"properties-rent_final.csv\" y ejecuta el código par obtener la respuesta"
   ]
  },
  {
   "cell_type": "markdown",
   "metadata": {},
   "source": [
    "## 1 Instala los módulos "
   ]
  },
  {
   "cell_type": "markdown",
   "metadata": {},
   "source": [
    "## 2 Introduce aqui tus celdas de código"
   ]
  },
  {
   "cell_type": "markdown",
   "metadata": {},
   "source": [
    "## 3 Código de comprobación <span style=\"color:red\"> ¡¡¡no tocar!!! </span>."
   ]
  },
  {
   "cell_type": "markdown",
   "metadata": {},
   "source": [
    "Código de comprobación"
   ]
  },
  {
   "cell_type": "code",
   "execution_count": 15,
   "metadata": {},
   "outputs": [],
   "source": [
    "import hashlib"
   ]
  },
  {
   "cell_type": "code",
   "execution_count": 17,
   "metadata": {},
   "outputs": [],
   "source": [
    " hasher = hashlib.md5()\n",
    "\n",
    "with open('properties-rent_final.csv', 'rb') as afile:\n",
    "\n",
    "    buf = afile.read()\n",
    "\n",
    "    hasher.update(buf)\n",
    "\n",
    "print(\"Pegar este resultado en el cuadrado de la respuesta: \" + hasher.hexdigest())"
   ]
  }
 ],
 "metadata": {
  "kernelspec": {
   "display_name": "Python 3",
   "language": "python",
   "name": "python3"
  },
  "language_info": {
   "codemirror_mode": {
    "name": "ipython",
    "version": 3
   },
   "file_extension": ".py",
   "mimetype": "text/x-python",
   "name": "python",
   "nbconvert_exporter": "python",
   "pygments_lexer": "ipython3",
   "version": "3.7.6"
  }
 },
 "nbformat": 4,
 "nbformat_minor": 2
}
