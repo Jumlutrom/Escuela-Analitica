{
 "cells": [
  {
   "cell_type": "markdown",
   "metadata": {},
   "source": [
    "# El Cifrado del Cesar\n",
    "https://es.wikipedia.org/wiki/Cifrado_C%C3%A9sar"
   ]
  },
  {
   "cell_type": "code",
   "execution_count": null,
   "metadata": {},
   "outputs": [],
   "source": [
    "# En este ejercicio deberas descifrar una frase que se ha cifrado con \"El desplazamiento del Cesar\"\n",
    "# Navega por internet, entiende como funciona e intenta implementar la funcion \"descifrar_cesar\" que recibe como \n",
    "# parámetros la frase cifrada y el valor del desplazamiento \n",
    "\n",
    "# AYUDA:\n",
    "# Para buscar la primera vez que aparece un caracter en una lista de caracteres se usa:\n",
    "#     variable.find(caracter_buscado,posición_desde_la_que_buscar,posición_hasta_la_que_buscar)\n",
    "# Para obtener una posición en concreto de una cadena de caracteresa se usa\n",
    "#     variable[posicion]\n"
   ]
  },
  {
   "cell_type": "code",
   "execution_count": null,
   "metadata": {},
   "outputs": [],
   "source": [
    "frase_cifrada='WXF RB KNCCNA CQJW WNENA. ZDN EREJ UJ NBLDNUJ MN JWJUÍCRLJ!!!' ## <-----NO TOCAR\n",
    "desplazamiento=     ## <------ Tienes que cambiar este valor y poner el que entiendas que es el correcto\n",
    "alfabeto='ABCDEFGHIJKLMNOPQRSTUVWXYZ' ## <------NO TOCAR"
   ]
  },
  {
   "cell_type": "code",
   "execution_count": null,
   "metadata": {},
   "outputs": [],
   "source": [
    "def descifrar_cesar(frase,desplazamiento):\n",
    "## <<<<<<<INTRODUCE AQUI TU CÓDIGO DE FUNCIÓN >>>>>>>>\n",
    "\n",
    "\n",
    "\n",
    "\n",
    "\n",
    "## <<<<<<<FNIAL INTRODUCE AQUI TU CÓDIGO DE FUNCIÓN >>>>>>>>"
   ]
  },
  {
   "cell_type": "code",
   "execution_count": null,
   "metadata": {},
   "outputs": [],
   "source": [
    "#### <<<<<------NO TOCAR------->>>>>>>\n",
    "descifrar_cesar(frase_cifrada,desplazamiento)"
   ]
  },
  {
   "cell_type": "code",
   "execution_count": null,
   "metadata": {},
   "outputs": [],
   "source": [
    "# Pega en el examen exactamente el texto descifrado que resulta de ejecutar la celda anterior\n",
    "# Verifica que no tenga espacios por delante ni por detras\n",
    "#\n",
    "# ############################# ATENCIÓN ##############################\n",
    "#\n",
    "# TEN EN CUENTA QUE LA FRASE DESCIFRADA ES UN TEXTO TOTALMENTE LEGIBLE\n",
    "# \n",
    "# ############################# ATENCIÓN ##############################"
   ]
  }
 ],
 "metadata": {
  "kernelspec": {
   "display_name": "Python 3",
   "language": "python",
   "name": "python3"
  },
  "language_info": {
   "codemirror_mode": {
    "name": "ipython",
    "version": 3
   },
   "file_extension": ".py",
   "mimetype": "text/x-python",
   "name": "python",
   "nbconvert_exporter": "python",
   "pygments_lexer": "ipython3",
   "version": "3.7.3"
  }
 },
 "nbformat": 4,
 "nbformat_minor": 2
}
