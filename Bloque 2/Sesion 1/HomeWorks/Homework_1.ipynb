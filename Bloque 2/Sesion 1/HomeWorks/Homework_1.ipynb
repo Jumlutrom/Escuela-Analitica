{
 "cells": [
  {
   "cell_type": "markdown",
   "metadata": {},
   "source": [
    "# Homework 1"
   ]
  },
  {
   "cell_type": "markdown",
   "metadata": {},
   "source": [
    "Lee el archivo \"Ejercicio_3_auto.csv\" (que podrás encontrar en el repositorio), asigna el contenido a una variable de tipo DataFrame y guarda esta variable en un archivo de tipo CSV usando como separador el símbolo \"|\" y con el nombre \"Ejercicio_3_auto_new.csv\". Por último ejecuta el código de comprobación y pega el resultado en el cuadro de respuesta."
   ]
  },
  {
   "cell_type": "markdown",
   "metadata": {},
   "source": [
    "Read the file \"Exercise_3_auto.csv\" (which you can find in the repository), assign the content to a variable of type DataFrame and save this variable in a file of type CSV using the symbol \"|\" as separator with the name \"Exercise_3_auto_new.csv\". Finally run the verification code and paste the result into the response box."
   ]
  },
  {
   "cell_type": "markdown",
   "metadata": {},
   "source": [
    "## 1 Instala los módulos\n",
    "## 1 Install the moduls"
   ]
  },
  {
   "cell_type": "code",
   "execution_count": 11,
   "metadata": {},
   "outputs": [],
   "source": [
    "pip install pandas"
   ]
  },
  {
   "cell_type": "code",
   "execution_count": 12,
   "metadata": {},
   "outputs": [],
   "source": [
    "pip install openpyxl"
   ]
  },
  {
   "cell_type": "markdown",
   "metadata": {},
   "source": [
    "## 2 Introduce aqui tus celdas de código\n",
    "## 2 Introduce your code here"
   ]
  },
  {
   "cell_type": "code",
   "execution_count": null,
   "metadata": {},
   "outputs": [],
   "source": []
  },
  {
   "cell_type": "code",
   "execution_count": null,
   "metadata": {},
   "outputs": [],
   "source": []
  },
  {
   "cell_type": "markdown",
   "metadata": {},
   "source": [
    "## 3 Código de comprobación <span style=\"color:red\"> ¡¡¡no tocar!!! </span>.\n",
    "## 3 Check code <span style=\"color:red\"> ¡¡¡don´t touch!!! </span>."
   ]
  },
  {
   "cell_type": "code",
   "execution_count": 8,
   "metadata": {},
   "outputs": [],
   "source": [
    "import hashlib"
   ]
  },
  {
   "cell_type": "code",
   "execution_count": 2,
   "metadata": {},
   "outputs": [],
   "source": [
    " hasher = hashlib.md5()\n",
    "\n",
    "with open('Ejercicio_3_auto_new.csv', 'rb') as afile:\n",
    "\n",
    "    buf = afile.read()\n",
    "\n",
    "    hasher.update(buf)\n",
    "\n",
    "print(\"Pegar este resultado en el cuadrado de la respuesta: \" + hasher.hexdigest())\n",
    "print(\"Paste thes result in the answer box: \" + hasher.hexdigest())"
   ]
  },
  {
   "cell_type": "code",
   "execution_count": null,
   "metadata": {},
   "outputs": [],
   "source": []
  }
 ],
 "metadata": {
  "kernelspec": {
   "display_name": "Python 3",
   "language": "python",
   "name": "python3"
  },
  "language_info": {
   "codemirror_mode": {
    "name": "ipython",
    "version": 3
   },
   "file_extension": ".py",
   "mimetype": "text/x-python",
   "name": "python",
   "nbconvert_exporter": "python",
   "pygments_lexer": "ipython3",
   "version": "3.7.8"
  }
 },
 "nbformat": 4,
 "nbformat_minor": 2
}
