{
 "cells": [
  {
   "cell_type": "markdown",
   "metadata": {},
   "source": [
    "# Ejemplo recopilatorio"
   ]
  },
  {
   "cell_type": "markdown",
   "metadata": {},
   "source": [
    "## 1.- Funciones y librerías"
   ]
  },
  {
   "cell_type": "markdown",
   "metadata": {},
   "source": [
    "## 1.1.- Importamos librerías "
   ]
  },
  {
   "cell_type": "code",
   "execution_count": 1,
   "metadata": {},
   "outputs": [],
   "source": [
    "import csv\n",
    "import statistics"
   ]
  },
  {
   "cell_type": "markdown",
   "metadata": {},
   "source": [
    "## 1.2.- Creamos una función "
   ]
  },
  {
   "cell_type": "code",
   "execution_count": 2,
   "metadata": {},
   "outputs": [],
   "source": [
    "def numero_mayor(listado):\n",
    "    listado.sort(reverse = True)\n",
    "    return listado[0]"
   ]
  },
  {
   "cell_type": "markdown",
   "metadata": {},
   "source": [
    "## 1.3.- Variable de control"
   ]
  },
  {
   "cell_type": "markdown",
   "metadata": {},
   "source": [
    "Definimos el valor de nuestra variable inicial"
   ]
  },
  {
   "cell_type": "code",
   "execution_count": 14,
   "metadata": {},
   "outputs": [],
   "source": [
    "valor_maximo_control = 30000"
   ]
  },
  {
   "cell_type": "markdown",
   "metadata": {},
   "source": [
    "# 2.- Abrimos nuestro fichero de texto"
   ]
  },
  {
   "cell_type": "markdown",
   "metadata": {},
   "source": [
    "Vemos que archivos tenemos en nuestra carpeta de trabajo"
   ]
  },
  {
   "cell_type": "code",
   "execution_count": 4,
   "metadata": {
    "scrolled": true
   },
   "outputs": [
    {
     "name": "stdout",
     "output_type": "stream",
     "text": [
      "Ejemplo_3_cabeceras.ipynb       ejemplo_6_imagenes_correo.ipynb  prueba.py\r\n",
      "Ejemplo_3_hipervinculos.ipynb   Ejemplo_final_9.ipynb\r\n",
      "Ejemplo_5_negrita_listas.ipynb  ejercicio_final.ipynb\r\n"
     ]
    }
   ],
   "source": [
    "ls"
   ]
  },
  {
   "cell_type": "code",
   "execution_count": 5,
   "metadata": {},
   "outputs": [
    {
     "name": "stdout",
     "output_type": "stream",
     "text": [
      "/home/jovyan\n"
     ]
    }
   ],
   "source": [
    "cd .."
   ]
  },
  {
   "cell_type": "markdown",
   "metadata": {},
   "source": [
    "Creamos una lista vacia"
   ]
  },
  {
   "cell_type": "code",
   "execution_count": 6,
   "metadata": {},
   "outputs": [],
   "source": [
    "lista_numeros = []"
   ]
  },
  {
   "cell_type": "markdown",
   "metadata": {},
   "source": [
    "Cargamos el archivo que me interesa"
   ]
  },
  {
   "cell_type": "code",
   "execution_count": 7,
   "metadata": {},
   "outputs": [],
   "source": [
    "with open('./lista_numeros.txt') as csv_file:\n",
    "    csv_reader = csv.reader(csv_file, delimiter='\\n')\n",
    "    for row in csv_reader:\n",
    "        lista_numeros.append(int(row[0]))"
   ]
  },
  {
   "cell_type": "markdown",
   "metadata": {},
   "source": [
    "# 3.- Cálculos"
   ]
  },
  {
   "cell_type": "markdown",
   "metadata": {},
   "source": [
    "Visualizamos los datos"
   ]
  },
  {
   "cell_type": "code",
   "execution_count": 8,
   "metadata": {},
   "outputs": [
    {
     "data": {
      "text/plain": [
       "[5,\n",
       " 12,\n",
       " 20,\n",
       " 23,\n",
       " 35,\n",
       " 46,\n",
       " 85,\n",
       " 98,\n",
       " 153,\n",
       " 206,\n",
       " 206,\n",
       " 238,\n",
       " 315,\n",
       " 328,\n",
       " 359,\n",
       " 519,\n",
       " 519,\n",
       " 10820,\n",
       " 11701,\n",
       " 12272,\n",
       " 12672,\n",
       " 12777,\n",
       " 12777,\n",
       " 13009,\n",
       " 13560,\n",
       " 14280,\n",
       " 14712,\n",
       " 15392,\n",
       " 15437,\n",
       " 17760,\n",
       " 18488,\n",
       " 20309,\n",
       " 558,\n",
       " 558,\n",
       " 558,\n",
       " 558,\n",
       " 647,\n",
       " 660,\n",
       " 1428,\n",
       " 1428,\n",
       " 1539,\n",
       " 1539,\n",
       " 1619,\n",
       " 1619,\n",
       " 2145,\n",
       " 2145,\n",
       " 2257,\n",
       " 2931,\n",
       " 3724,\n",
       " 3724,\n",
       " 3724,\n",
       " 4211,\n",
       " 4215,\n",
       " 4345,\n",
       " 4561,\n",
       " 5254,\n",
       " 5254,\n",
       " 6221,\n",
       " 6240,\n",
       " 6280,\n",
       " 7111,\n",
       " 8004,\n",
       " 8132,\n",
       " 8132,\n",
       " 8408,\n",
       " 8408,\n",
       " 9097,\n",
       " 9097,\n",
       " 9114,\n",
       " 9114,\n",
       " 10663,\n",
       " 10663,\n",
       " 10755]"
      ]
     },
     "execution_count": 8,
     "metadata": {},
     "output_type": "execute_result"
    }
   ],
   "source": [
    "lista_numeros"
   ]
  },
  {
   "cell_type": "markdown",
   "metadata": {},
   "source": [
    "Si no hay ningún valor mayor que *\"valor_maximo_control\"* calculamos la media en caso contrario calculamos la mediana"
   ]
  },
  {
   "cell_type": "code",
   "execution_count": 16,
   "metadata": {},
   "outputs": [
    {
     "data": {
      "text/plain": [
       "30000"
      ]
     },
     "execution_count": 16,
     "metadata": {},
     "output_type": "execute_result"
    }
   ],
   "source": [
    "valor_maximo_control"
   ]
  },
  {
   "cell_type": "code",
   "execution_count": 9,
   "metadata": {},
   "outputs": [
    {
     "data": {
      "text/plain": [
       "20309"
      ]
     },
     "execution_count": 9,
     "metadata": {},
     "output_type": "execute_result"
    }
   ],
   "source": [
    "numero_mayor(lista_numeros)"
   ]
  },
  {
   "cell_type": "code",
   "execution_count": 15,
   "metadata": {},
   "outputs": [
    {
     "name": "stdout",
     "output_type": "stream",
     "text": [
      "La mediana es: 5695.520547945205\n"
     ]
    }
   ],
   "source": [
    "if lista_numeros != []:\n",
    "    if numero_mayor(lista_numeros) > valor_maximo_control:\n",
    "        resultado = statistics.median(lista_numeros)\n",
    "        print(\"La mediana es: \" + str(resultado))\n",
    "    else:\n",
    "        resultado = statistics.mean(lista_numeros)\n",
    "        print(\"La mediana es: \" + str(resultado))\n",
    "else:\n",
    "    print(\"Nuestra lista de númeroes esta vacia\")    "
   ]
  },
  {
   "cell_type": "markdown",
   "metadata": {},
   "source": [
    "[Creado por: **Juan Luis Corredor Ardoy**](mailto:juanluis.corredorardoy.ext@telefonica.com)"
   ]
  },
  {
   "cell_type": "markdown",
   "metadata": {},
   "source": [
    "![imagen](https://upload.wikimedia.org/wikipedia/commons/2/25/Telefonica_Logo.svg)"
   ]
  }
 ],
 "metadata": {
  "kernelspec": {
   "display_name": "Python 3",
   "language": "python",
   "name": "python3"
  },
  "language_info": {
   "codemirror_mode": {
    "name": "ipython",
    "version": 3
   },
   "file_extension": ".py",
   "mimetype": "text/x-python",
   "name": "python",
   "nbconvert_exporter": "python",
   "pygments_lexer": "ipython3",
   "version": "3.7.3"
  }
 },
 "nbformat": 4,
 "nbformat_minor": 2
}