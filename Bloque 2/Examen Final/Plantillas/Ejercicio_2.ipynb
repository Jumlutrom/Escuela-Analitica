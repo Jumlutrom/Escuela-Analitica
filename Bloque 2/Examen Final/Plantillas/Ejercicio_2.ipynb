{
 "cells": [
  {
   "cell_type": "markdown",
   "metadata": {},
   "source": [
    "# Examen del Bloque 2 - Ejercicio 2"
   ]
  },
  {
   "cell_type": "markdown",
   "metadata": {},
   "source": [
    "Para realizar este ejercicio es necesaria la plantilla \"Ejercicio 2\"\n",
    "\n",
    "Carga los archivos \"sales_region.csv\" y \"sales_cost.csv\", después realiza las siguientes acciones en el orden en el que aparecen:\n",
    "\n",
    "- Filtra los datos del archivo \"sales_cost.csv\" para quedarnos sólo con los datos que tengan un valor de **\"Unit Sold\" mayor que 600**\n",
    "- **Une el DataFrame resultante con el DataFrame que debemos de haber cargado el archivo \"sales_region.csv\"**. Realiza esta unión usando **como referencia la columna \"Order ID\"**, nos interesa que en el DataFrame resultante no tengamos ningún registro sin valor de \"Unit Price\" ni de \"Region\" o \"Country\" (Sólo se mostrarán los datos completos, **la intención es sólo mostrar los datos que están en ambas tablas**)\n",
    "\n",
    "Por último genera el archivo con el nombre \"sales_all.csv\" y ejecuta el código par obtener la respuesta"
   ]
  },
  {
   "cell_type": "markdown",
   "metadata": {},
   "source": [
    "## 1 Instala las librerías "
   ]
  },
  {
   "cell_type": "markdown",
   "metadata": {},
   "source": [
    "## 2 Introduce aqui tus celdas de código"
   ]
  },
  {
   "cell_type": "markdown",
   "metadata": {},
   "source": [
    "## 3 Código de comprobación <span style=\"color:red\"> ¡¡¡no tocar!!! </span>."
   ]
  },
  {
   "cell_type": "markdown",
   "metadata": {},
   "source": [
    "Código de comprobación"
   ]
  },
  {
   "cell_type": "code",
   "execution_count": 84,
   "metadata": {},
   "outputs": [],
   "source": [
    "import hashlib"
   ]
  },
  {
   "cell_type": "code",
   "execution_count": 86,
   "metadata": {},
   "outputs": [],
   "source": [
    " hasher = hashlib.md5()\n",
    "\n",
    "with open('sales_all.csv', 'rb') as afile:\n",
    "\n",
    "    buf = afile.read()\n",
    "\n",
    "    hasher.update(buf)\n",
    "\n",
    "print(\"Pegar este resultado en el cuadrado de la respuesta: \" + hasher.hexdigest())"
   ]
  }
 ],
 "metadata": {
  "kernelspec": {
   "display_name": "Python 3",
   "language": "python",
   "name": "python3"
  },
  "language_info": {
   "codemirror_mode": {
    "name": "ipython",
    "version": 3
   },
   "file_extension": ".py",
   "mimetype": "text/x-python",
   "name": "python",
   "nbconvert_exporter": "python",
   "pygments_lexer": "ipython3",
   "version": "3.7.6"
  }
 },
 "nbformat": 4,
 "nbformat_minor": 2
}
